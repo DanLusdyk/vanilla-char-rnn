{
 "cells": [
  {
   "cell_type": "code",
   "execution_count": 1,
   "id": "74e1bbf8-8d5d-4956-9a34-1108908e3bc9",
   "metadata": {},
   "outputs": [],
   "source": [
    "import pandas as pd\n",
    "import random\n",
    "import torch\n",
    "import torch.nn.functional as F\n",
    "import torch.nn.utils.rnn as rnn_utils\n",
    "import matplotlib.pyplot as plt\n",
    "%matplotlib inline"
   ]
  },
  {
   "cell_type": "code",
   "execution_count": 3,
   "id": "c2642411-b5a5-4537-b57d-6395915d434c",
   "metadata": {},
   "outputs": [
    {
     "name": "stdout",
     "output_type": "stream",
     "text": [
      "['salette', 'cici', 'paycen', 'monish', 'diadra']\n",
      "Num names: 93889\n"
     ]
    }
   ],
   "source": [
    "# read and format data\n",
    "df = pd.read_csv('NationalNames.csv')\n",
    "\n",
    "names = [name.lower() for name in list(set(df['Name']))]\n",
    "print(names[:5])\n",
    "print('Num names:',len(names))\n",
    "\n",
    "longest_name = max(len(name) for name in names) + 2 # including first and last '.'"
   ]
  },
  {
   "cell_type": "code",
   "execution_count": 4,
   "id": "29bfed8d-ee74-4290-943e-847ea388afc6",
   "metadata": {},
   "outputs": [
    {
     "name": "stdout",
     "output_type": "stream",
     "text": [
      "{0: 'a', 1: 'b', 2: 'c', 3: 'd', 4: 'e', 5: 'f', 6: 'g', 7: 'h', 8: 'i', 9: 'j', 10: 'k', 11: 'l', 12: 'm', 13: 'n', 14: 'o', 15: 'p', 16: 'q', 17: 'r', 18: 's', 19: 't', 20: 'u', 21: 'v', 22: 'w', 23: 'x', 24: 'y', 25: 'z', 26: '.'}\n"
     ]
    }
   ],
   "source": [
    "# build vocabulary and mappings\n",
    "chars = [c.lower() for c in sorted(list(set(''.join(names))))]\n",
    "ctoi = {c:i for i,c in enumerate(chars)}\n",
    "ctoi['.'] = 26\n",
    "itoc = {i:c for c,i in ctoi.items()}\n",
    "print(itoc)"
   ]
  },
  {
   "cell_type": "code",
   "execution_count": 17,
   "id": "cf4266f2-bff2-4112-bf79-448fa16776d1",
   "metadata": {},
   "outputs": [
    {
     "name": "stdout",
     "output_type": "stream",
     "text": [
      "['samyrah', 'tinothy', 'britini', 'lhiam', 'eh']\n"
     ]
    }
   ],
   "source": [
    "# shuffle names\n",
    "random.seed(10)\n",
    "random.shuffle(names)\n",
    "print(names[:5])"
   ]
  },
  {
   "cell_type": "code",
   "execution_count": 18,
   "id": "273637ea-13ec-4a26-a34d-64f865a2ae60",
   "metadata": {},
   "outputs": [],
   "source": [
    "# split dataset\n",
    "n1 = int(0.8*len(names))\n",
    "n2 = int(0.9*len(names))\n",
    "names_tr = names[:n1]\n",
    "names_val = names[n1:n2]\n",
    "names_test = names[n2:]"
   ]
  },
  {
   "cell_type": "code",
   "execution_count": 19,
   "id": "101c9a3b-f057-40b2-b486-181c972d5eff",
   "metadata": {},
   "outputs": [],
   "source": [
    "X_size = 27 # input vector size (one-hot encoded char) (includes '.' character indicating start/end of name)\n",
    "Y_size = 27 # output vector size (one-hot encoded char) (includes '.' character indicating start/end of name)"
   ]
  },
  {
   "cell_type": "code",
   "execution_count": 20,
   "id": "5502f74a-2306-4490-90a8-c6aa62cb92d9",
   "metadata": {},
   "outputs": [
    {
     "name": "stdout",
     "output_type": "stream",
     "text": [
      "torch.Size([75111, 17, 27]) torch.Size([75111, 17, 27])\n"
     ]
    }
   ],
   "source": [
    "# 1st dim = name, 2nd dim = char, 3rd dim = one-hot encoding\n",
    "def build_dataset(names):\n",
    "    X = torch.zeros(len(names), longest_name, X_size)\n",
    "    Y = torch.zeros(len(names), longest_name, Y_size)\n",
    "    \n",
    "    for i,name in enumerate(names):\n",
    "        for j,char in enumerate('.' + name):\n",
    "            X[i,j,:] = F.one_hot(torch.tensor(ctoi[char]), num_classes=X_size)\n",
    "            Y[i,j,:] = F.one_hot(torch.tensor(ctoi[(name + '.')[j]]), num_classes=Y_size) # lookahead to next char for expected output\n",
    "            \n",
    "    return X,Y\n",
    "\n",
    "Xtr,   Ytr = build_dataset(names_tr)\n",
    "Xval,  Yval = build_dataset(names_val)\n",
    "Xtest, Ytest = build_dataset(names_test)\n",
    "print(Xtr.shape, Ytr.shape)"
   ]
  },
  {
   "cell_type": "code",
   "execution_count": 37,
   "id": "62873077-8bb1-4a9c-99f1-cd54c93c618a",
   "metadata": {},
   "outputs": [
    {
     "name": "stdout",
     "output_type": "stream",
     "text": [
      "Name: .samyrah\n",
      "Name: samyrah.\n"
     ]
    }
   ],
   "source": [
    "def print_name(Xn):\n",
    "    character_encodings = torch.argmax(Xn, 1)\n",
    "    print('Name: ', end='')\n",
    "    for index, x in enumerate(Xn):\n",
    "        if x.sum() == 0: break\n",
    "        print(itoc[character_encodings[index].item()], end='')\n",
    "    print()\n",
    "\n",
    "print_name(Xtr[0])\n",
    "print_name(Ytr[0])"
   ]
  },
  {
   "cell_type": "code",
   "execution_count": 63,
   "id": "514ecb07-f1dd-43e8-ab6b-27eaa10775cc",
   "metadata": {},
   "outputs": [],
   "source": [
    "# hyperparameters\n",
    "hidden_size = 150 # size of hidden state vector\n",
    "batch_size = 128 # number of names forwarded per training step\n",
    "eps = 1e-5\n",
    "# name lengths are dynamic so sequence lengths will be dynamic"
   ]
  },
  {
   "cell_type": "code",
   "execution_count": 64,
   "id": "cb5fa5de-4396-49dd-9df0-870e59c5f861",
   "metadata": {},
   "outputs": [
    {
     "name": "stdout",
     "output_type": "stream",
     "text": [
      "Num parameters 30927\n"
     ]
    }
   ],
   "source": [
    "# param init\n",
    "Whh = torch.randn(hidden_size, hidden_size) * (5/3) / (hidden_size**0.5) # kaiming init\n",
    "Wxh = torch.randn(hidden_size, X_size) * (5/3) / (hidden_size**0.5)\n",
    "Why = torch.randn(Y_size, hidden_size) * 0.01\n",
    "#bh = torch.zeros(hidden_size, 1)\n",
    "by = torch.zeros(Y_size, 1)\n",
    "lngain = torch.ones(hidden_size, 1)\n",
    "lnbias = torch.zeros(hidden_size, 1)\n",
    "\n",
    "parameters = [Whh, Wxh, Why, by, lngain, lnbias]\n",
    "for p in parameters:\n",
    "    p.requires_grad = True\n",
    "\n",
    "total_params = sum(p.numel() for p in parameters)\n",
    "print('Num parameters', total_params)"
   ]
  },
  {
   "cell_type": "code",
   "execution_count": 65,
   "id": "aa90f450-1913-4235-996a-44b975479aee",
   "metadata": {},
   "outputs": [],
   "source": [
    "step_count = 100000\n",
    "losses = []\n",
    "avg_grads = []"
   ]
  },
  {
   "cell_type": "code",
   "execution_count": null,
   "id": "f6451633-022a-4ed4-8b9b-c9109f612c63",
   "metadata": {},
   "outputs": [],
   "source": [
    "# training loop\n",
    "for i in range(step_count):\n",
    "    # forward\n",
    "    loss = 0\n",
    "    for _ in range(batch_size):\n",
    "        # sample a name\n",
    "        ix = random.randint(0, Xtr.shape[0] - 1)\n",
    "        Xn, Yn = Xtr[ix], Ytr[ix]\n",
    "\n",
    "        h = torch.zeros(hidden_size, 1) # reset hidden state to zero\n",
    "\n",
    "        for x, target in zip(Xn, Yn):\n",
    "            if x.sum() == 0: break # avoid forwarding padded one-hot vectors\n",
    "\n",
    "            x = x.view(X_size, 1)\n",
    "            target = target.view(Y_size, 1)\n",
    "            \n",
    "            hpreact = Whh @ h + Wxh @ x #+ bh\n",
    "\n",
    "            # layer norm\n",
    "            hpreact = lngain * ((hpreact - hpreact.mean(0)) / ((hpreact.std(0)) + eps)) + lnbias\n",
    "            \n",
    "            h = torch.tanh(hpreact)\n",
    "\n",
    "            y = Why @ h + by # logits\n",
    "\n",
    "            loss += F.cross_entropy(y.view(1, Y_size), torch.argmax(target.view(1, Y_size), dim=1))\n",
    "\n",
    "    # backward\n",
    "    for p in parameters:\n",
    "        p.grad = None\n",
    "    loss.backward()\n",
    "\n",
    "    # avg gradients across each batch\n",
    "    for p in parameters:\n",
    "        p.grad /= batch_size\n",
    "\n",
    "    # update\n",
    "    learning_rate = 0.001 if i < 1000 else 0.0001\n",
    "    for p in parameters:\n",
    "        p.data += -learning_rate * p.grad\n",
    "\n",
    "    h = h.detach()\n",
    "    \n",
    "    # track stats\n",
    "    if i % 100 == 0:\n",
    "        print(f'{i:7d}/{step_count:7d}: {loss.item():.4f}')\n",
    "\n",
    "    losses.append(loss.log10().item())\n",
    "\n",
    "    avg_grad = 0\n",
    "    for p in parameters:\n",
    "        avg_grad += (p.grad.sum() / p.numel()).item()\n",
    "    avg_grad /= total_params\n",
    "    avg_grads.append(avg_grad)"
   ]
  },
  {
   "cell_type": "code",
   "execution_count": 67,
   "id": "a28727e4-a649-418a-84e4-2dd5ea297035",
   "metadata": {},
   "outputs": [
    {
     "data": {
      "text/plain": [
       "[<matplotlib.lines.Line2D at 0x20996a416c0>]"
      ]
     },
     "execution_count": 67,
     "metadata": {},
     "output_type": "execute_result"
    },
    {
     "data": {
      "image/png": "[encoded data removed]",
      "text/plain": [
       "<Figure size 640x480 with 1 Axes>"
      ]
     },
     "metadata": {},
     "output_type": "display_data"
    }
   ],
   "source": [
    "plt.plot(losses)"
   ]
  },
  {
   "cell_type": "code",
   "execution_count": 68,
   "id": "f0077117-8386-450a-826c-60ae12f900a4",
   "metadata": {},
   "outputs": [
    {
     "data": {
      "image/png": "[encoded data removed]",
      "text/plain": [
       "<Figure size 640x480 with 1 Axes>"
      ]
     },
     "metadata": {},
     "output_type": "display_data"
    }
   ],
   "source": [
    "plt.hist(hpreact.view(-1).tolist(), 50);"
   ]
  },
  {
   "cell_type": "code",
   "execution_count": 69,
   "id": "48ff8ea1-20e3-4de6-b758-1ad64c78699b",
   "metadata": {},
   "outputs": [
    {
     "data": {
      "image/png": "[encoded data removed]",
      "text/plain": [
       "<Figure size 640x480 with 1 Axes>"
      ]
     },
     "metadata": {},
     "output_type": "display_data"
    }
   ],
   "source": [
    "plt.hist(h.view(-1).tolist(), 50);"
   ]
  },
  {
   "cell_type": "code",
   "execution_count": 70,
   "id": "9cde18d6-7b70-4df1-b76e-dd6a4a163b9d",
   "metadata": {},
   "outputs": [
    {
     "data": {
      "text/plain": [
       "[<matplotlib.lines.Line2D at 0x2099798cf40>]"
      ]
     },
     "execution_count": 70,
     "metadata": {},
     "output_type": "execute_result"
    },
    {
     "data": {
      "image/png": "[encoded data removed]",
      "text/plain": [
       "<Figure size 640x480 with 1 Axes>"
      ]
     },
     "metadata": {},
     "output_type": "display_data"
    }
   ],
   "source": [
    "plt.plot(avg_grads)"
   ]
  },
  {
   "cell_type": "code",
   "execution_count": 74,
   "id": "b93be4fd-7a14-4849-864a-1a5c480ca727",
   "metadata": {},
   "outputs": [
    {
     "name": "stdout",
     "output_type": "stream",
     "text": [
      "train 2.5606560707092285\n",
      "val 2.5673179626464844\n"
     ]
    }
   ],
   "source": [
    "@torch.no_grad()\n",
    "def split_loss(split):\n",
    "    Xset,Yset = {\n",
    "        'train': (Xtr, Ytr),\n",
    "        'val': (Xval, Yval),\n",
    "        'test': (Xtest, Ytest),\n",
    "    }[split]\n",
    "\n",
    "    loss = 0\n",
    "    for i in range(Xset.shape[0]):\n",
    "        Xn, Yn = Xset[i], Yset[i]\n",
    "\n",
    "        h = torch.zeros(hidden_size, 1)\n",
    "        sample_loss = 0\n",
    "        time_step = 0\n",
    "        for x, target in zip(Xn, Yn):\n",
    "            if x.sum() == 0: break\n",
    "            time_step += 1\n",
    "            \n",
    "            x = x.view(X_size, 1)\n",
    "            target = target.view(Y_size, 1)\n",
    "            \n",
    "            hpreact = Whh @ h + Wxh @ x #+ bh\n",
    "\n",
    "            # layer norm\n",
    "            hpreact = lngain * ((hpreact - hpreact.mean(0)) / hpreact.std(0)) + lnbias\n",
    "            \n",
    "            h = torch.tanh(hpreact)\n",
    "\n",
    "            y = Why @ h + by\n",
    "\n",
    "            sample_loss += F.cross_entropy(y.view(1, Y_size), torch.argmax(target.view(1, Y_size), dim=1))\n",
    "\n",
    "        sample_loss /= time_step # average loss over all time steps\n",
    "        loss += sample_loss\n",
    "\n",
    "    loss /= Xset.shape[0] # average loss over all examples in the set\n",
    "\n",
    "    print(split, loss.item())\n",
    "\n",
    "split_loss('train')\n",
    "split_loss('val')"
   ]
  },
  {
   "cell_type": "code",
   "execution_count": null,
   "id": "0eb27c70-3556-4c10-889f-95234d926937",
   "metadata": {
    "scrolled": true
   },
   "outputs": [],
   "source": [
    "# sample from the model\n",
    "def sample_forward(char, h):\n",
    "    x = F.one_hot(torch.tensor(char), num_classes=X_size)\n",
    "    x = x.view(X_size, 1)\n",
    "    x = x.type(torch.float32)\n",
    "\n",
    "    hpreact = Whh @ h + Wxh @ x #+ bh\n",
    "\n",
    "    # layer norm\n",
    "    hpreact = lngain * ((hpreact - hpreact.mean(0)) / hpreact.std(0)) + lnbias\n",
    "    \n",
    "    h = torch.tanh(hpreact)\n",
    "\n",
    "    y = Why @ h + by\n",
    "    probs = F.softmax(y, dim=0)\n",
    "\n",
    "    # sample from the distribution\n",
    "    char = torch.multinomial(probs.view(1, Y_size), num_samples=1).item()\n",
    "\n",
    "    return char, h\n",
    "\n",
    "for _ in range(50):\n",
    "    char = 26\n",
    "    h = torch.zeros(hidden_size, 1)\n",
    "\n",
    "    char, h = sample_forward(char, h)\n",
    "    print(itoc[char], end='')\n",
    "    \n",
    "    while(char != 26):\n",
    "        char, h = sample_forward(char, h)\n",
    "        print(itoc[char], end='')\n",
    "\n",
    "    print()"
   ]
  },
  {
   "cell_type": "markdown",
   "id": "8888c4b7-6d32-4f60-b822-bfdd0956f01e",
   "metadata": {
    "jp-MarkdownHeadingCollapsed": true
   },
   "source": [
    "#### Single layer, hidden_size 500, batch_size 32, 277027 parameters, 100000 iterations\n",
    "train 13.1760\\\n",
    "val 13.4144\\\n",
    "shadral\\\n",
    "pautenne\\\n",
    "zyourba\\\n",
    "questunn\\\n",
    "ouh\\\n",
    "xaline\\\n",
    "veronipa\\\n",
    "erline\\\n",
    "pondij\\\n",
    "yahon\\\n",
    "lainia\\\n",
    "yahie\\\n",
    "amleeta\\\n",
    "nelada\\\n",
    "cainy\\\n",
    "brignae\\\n",
    "kenite\\\n",
    "eronjeon\\\n",
    "uush\\\n",
    "zanya\\\n",
    "jahnnia\\\n",
    "sanetty\\\n",
    "ialy\\\n",
    "reeol\\\n",
    "cymanto\\\n",
    "zhonal\\\n",
    "frosticko\\\n",
    "genni\\\n",
    "karsyl\\\n",
    "ikab\\\n",
    "derita\\\n",
    "kaniah\\\n",
    "damaid\\\n",
    "tryde\\\n",
    "everew\\\n",
    "laues\\\n",
    "berlad\\\n",
    "mirayle\\\n",
    "westale\\\n",
    "kesun\\\n",
    "greg\\\n",
    "oukela\\\n",
    "indyc\\\n",
    "oheita\\\n",
    "coue\\\n",
    "marainyia\\\n",
    "richnur\\\n",
    "wiudre\\\n",
    "brizin\\\n",
    "tyrinnnawadderro\r\n",
    "dakyana\r\n",
    "qumana\r\n",
    "waneila\r\n",
    "temie\r\n",
    "jumesh"
   ]
  },
  {
   "cell_type": "markdown",
   "id": "c083bea9-71f9-468e-91e5-9b4338ad10e1",
   "metadata": {},
   "source": [
    "#### Single layer, hidden_size 300, batch_size 32, 106227 parameters, 22100 iterations\n",
    "train 12.1858\\\n",
    "val 12.5714\\\n",
    "vondel\\\n",
    "quasti\\\n",
    "carlia\\\n",
    "sabetti\\\n",
    "zeckrion\\\n",
    "welina\\\n",
    "nieclai\\\n",
    "quanaha\\\n",
    "yussis\\\n",
    "mahrick\\\n",
    "temiorancee\\\n",
    "islee\\\n",
    "artie\\\n",
    "wide\\\n",
    "tikon\\\n",
    "idfa\\\n",
    "murion\\\n",
    "yazifa\\\n",
    "hayzen\\\n",
    "yorddeena\\\n",
    "latrea\\\n",
    "javiye\\\n",
    "gurn\\\n",
    "xinda\\\n",
    "cathar\\\n",
    "abbijahlara\\\n",
    "geralina\\\n",
    "zacvir\\\n",
    "divit\\\n",
    "unetta\\\n",
    "quentosia\\\n",
    "khisa\\\n",
    "flerystine\\\n",
    "rasseen\\\n",
    "ajeney\\\n",
    "taniana\\\n",
    "edelynn\\\n",
    "dibeshi\\\n",
    "harperia\\\n",
    "roirl\\\n",
    "hermyan\\\n",
    "xavonna\\\n",
    "kayven\\\n",
    "yledana\\\n",
    "wadderro\\\n",
    "dakyana\\\n",
    "qumana\\\n",
    "waneila\\\n",
    "temie\\\n",
    "jumesh"
   ]
  },
  {
   "cell_type": "code",
   "execution_count": null,
   "id": "4fbb1d8f-2338-41e2-9552-46043bb66f0e",
   "metadata": {},
   "outputs": [],
   "source": []
  }
 ],
 "metadata": {
  "kernelspec": {
   "display_name": "Python 3 (ipykernel)",
   "language": "python",
   "name": "python3"
  },
  "language_info": {
   "codemirror_mode": {
    "name": "ipython",
    "version": 3
   },
   "file_extension": ".py",
   "mimetype": "text/x-python",
   "name": "python",
   "nbconvert_exporter": "python",
   "pygments_lexer": "ipython3",
   "version": "3.10.2"
  }
 },
 "nbformat": 4,
 "nbformat_minor": 5
}
